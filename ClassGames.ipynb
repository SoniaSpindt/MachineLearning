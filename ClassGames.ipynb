{
 "cells": [
  {
   "cell_type": "code",
   "execution_count": 2,
   "id": "9f8cd757",
   "metadata": {},
   "outputs": [
    {
     "name": "stdout",
     "output_type": "stream",
     "text": [
      "Ms. Spindt's favorite game is Banjo Kazooie.\n"
     ]
    }
   ],
   "source": [
    "print(\"Ms. Spindt's favorite game is Banjo Kazooie.\")"
   ]
  },
  {
   "cell_type": "code",
   "execution_count": 1,
   "id": "042911ed",
   "metadata": {},
   "outputs": [
    {
     "name": "stdout",
     "output_type": "stream",
     "text": [
      "Will's favorite game is Minecraft\n"
     ]
    }
   ],
   "source": [
    "print(\"Will's favorite game is Minecraft\")"
   ]
  },
  {
   "cell_type": "code",
   "execution_count": null,
   "id": "04b84977",
   "metadata": {},
   "outputs": [],
   "source": []
  }
 ],
 "metadata": {
  "kernelspec": {
   "display_name": "Python 3 (ipykernel)",
   "language": "python",
   "name": "python3"
  },
  "language_info": {
   "codemirror_mode": {
    "name": "ipython",
    "version": 3
   },
   "file_extension": ".py",
   "mimetype": "text/x-python",
   "name": "python",
   "nbconvert_exporter": "python",
   "pygments_lexer": "ipython3",
   "version": "3.9.13"
  }
 },
 "nbformat": 4,
 "nbformat_minor": 5
}
