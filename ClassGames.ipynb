{
 "cells": [
  {
   "cell_type": "code",
   "execution_count": 2,
   "id": "9f8cd757",
   "metadata": {},
   "outputs": [
    {
     "name": "stdout",
     "output_type": "stream",
     "text": [
      "Ms. Spindt's favorite game is Banjo Kazooie.\n"
     ]
    }
   ],
   "source": [
    "print(\"Ms. Spindt's favorite game is Banjo Kazooie.\")"
   ]
  },
  {
   "cell_type": "code",
   "execution_count": 1,
   "id": "042911ed",
   "metadata": {},
   "outputs": [
    {
     "name": "stdout",
     "output_type": "stream",
     "text": [
      "George's favorite game is DCS\n"
     ]
    }
   ],
   "source": [
    "print(\"George's favorite game is DCS\")"
   ]
  },
  {
   "cell_type": "code",
   "execution_count": null,
   "id": "36f5112e-a2c8-4e14-b974-afc7256a4e0f",
   "metadata": {},
   "outputs": [],
   "source": []
  }
 ],
 "metadata": {
  "kernelspec": {
   "display_name": "Python 3 (ipykernel)",
   "language": "python",
   "name": "python3"
  },
  "language_info": {
   "codemirror_mode": {
    "name": "ipython",
    "version": 3
   },
   "file_extension": ".py",
   "mimetype": "text/x-python",
   "name": "python",
   "nbconvert_exporter": "python",
   "pygments_lexer": "ipython3",
   "version": "3.12.7"
  }
 },
 "nbformat": 4,
 "nbformat_minor": 5
}
